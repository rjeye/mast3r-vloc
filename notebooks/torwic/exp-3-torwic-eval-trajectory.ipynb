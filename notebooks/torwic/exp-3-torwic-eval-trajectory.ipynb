{
 "cells": [
  {
   "cell_type": "code",
   "execution_count": 1,
   "metadata": {},
   "outputs": [
    {
     "name": "stdout",
     "output_type": "stream",
     "text": [
      "/home/onyx/work_dirs/rjayanti/mast3r-vloc\n",
      "[DEBUG][2024-12-21 15:43:34,665][log.configure_logging():113]\n",
      "System info:\n",
      "Python 3.11.8\n",
      "Linux-5.15.0-127-generic-x86_64-with-glibc2.35\n",
      "onyx@spectre.rrcx.tk\n",
      "\n"
     ]
    }
   ],
   "source": [
    "import shutil\n",
    "import os.path as osp\n",
    "from pathlib import Path\n",
    "from natsort import natsorted\n",
    "import tqdm, tqdm.notebook\n",
    "tqdm.tqdm = tqdm.notebook.tqdm  # notebook-friendly progress bars\n",
    "\n",
    "# reload notebook automatically after changes to source python files\n",
    "%load_ext autoreload\n",
    "%autoreload 2\n",
    "\n",
    "# change base folder to parent\n",
    "import os\n",
    "if os.path.basename(os.getcwd()) == 'torwic':\n",
    "    os.chdir('../..')\n",
    "print(os.getcwd())\n",
    "\n",
    "# for evo ######################################################################\n",
    "from evo.tools import file_interface\n",
    "\n",
    "from evo.tools import log\n",
    "log.configure_logging(verbose=True, debug=True, silent=False)\n",
    "\n",
    "import pprint\n",
    "import numpy as np\n",
    "\n",
    "from evo.tools import plot\n",
    "import matplotlib.pyplot as plt\n",
    "\n",
    "# temporarily override some package settings\n",
    "from evo.tools.settings import SETTINGS\n",
    "SETTINGS.plot_usetex = False\n",
    "\n",
    "plot.apply_settings(SETTINGS)\n",
    "%matplotlib inline\n",
    "%matplotlib widget\n",
    "#############################################################################\n"
   ]
  },
  {
   "cell_type": "code",
   "execution_count": 2,
   "metadata": {},
   "outputs": [
    {
     "ename": "FileNotFoundError",
     "evalue": "[Errno 2] No such file or directory: './data/filtered_query_poses.txt'",
     "output_type": "error",
     "traceback": [
      "\u001b[0;31m---------------------------------------------------------------------------\u001b[0m",
      "\u001b[0;31mFileNotFoundError\u001b[0m                         Traceback (most recent call last)",
      "Cell \u001b[0;32mIn[2], line 13\u001b[0m\n\u001b[1;32m     10\u001b[0m traj_ref_tum_file_60 \u001b[38;5;241m=\u001b[39m \u001b[38;5;124m\"\u001b[39m\u001b[38;5;124m./data/retrieved_ref_poses_60.txt\u001b[39m\u001b[38;5;124m\"\u001b[39m\n\u001b[1;32m     11\u001b[0m traj_pred_kitti_file_60 \u001b[38;5;241m=\u001b[39m \u001b[38;5;124m\"\u001b[39m\u001b[38;5;124m./data/pred_image_right_poses_kitti_query_down_60.txt\u001b[39m\u001b[38;5;124m\"\u001b[39m\n\u001b[0;32m---> 13\u001b[0m \u001b[43mshutil\u001b[49m\u001b[38;5;241;43m.\u001b[39;49m\u001b[43mcopyfile\u001b[49m\u001b[43m(\u001b[49m\u001b[43mtraj_query_tum_file\u001b[49m\u001b[43m,\u001b[49m\u001b[43m \u001b[49m\u001b[43mtraj_query_tum_file_60\u001b[49m\u001b[43m)\u001b[49m\n\u001b[1;32m     14\u001b[0m shutil\u001b[38;5;241m.\u001b[39mcopyfile(traj_ref_tum_file, traj_ref_tum_file_60)\n\u001b[1;32m     15\u001b[0m shutil\u001b[38;5;241m.\u001b[39mcopyfile(traj_pred_kitti_file, traj_pred_kitti_file_60)\n",
      "File \u001b[0;32m/scratch/public_scratch/toponav/miniconda3/envs/mast3r/lib/python3.11/shutil.py:256\u001b[0m, in \u001b[0;36mcopyfile\u001b[0;34m(src, dst, follow_symlinks)\u001b[0m\n\u001b[1;32m    254\u001b[0m     os\u001b[38;5;241m.\u001b[39msymlink(os\u001b[38;5;241m.\u001b[39mreadlink(src), dst)\n\u001b[1;32m    255\u001b[0m \u001b[38;5;28;01melse\u001b[39;00m:\n\u001b[0;32m--> 256\u001b[0m     \u001b[38;5;28;01mwith\u001b[39;00m \u001b[38;5;28;43mopen\u001b[39;49m\u001b[43m(\u001b[49m\u001b[43msrc\u001b[49m\u001b[43m,\u001b[49m\u001b[43m \u001b[49m\u001b[38;5;124;43m'\u001b[39;49m\u001b[38;5;124;43mrb\u001b[39;49m\u001b[38;5;124;43m'\u001b[39;49m\u001b[43m)\u001b[49m \u001b[38;5;28;01mas\u001b[39;00m fsrc:\n\u001b[1;32m    257\u001b[0m         \u001b[38;5;28;01mtry\u001b[39;00m:\n\u001b[1;32m    258\u001b[0m             \u001b[38;5;28;01mwith\u001b[39;00m \u001b[38;5;28mopen\u001b[39m(dst, \u001b[38;5;124m'\u001b[39m\u001b[38;5;124mwb\u001b[39m\u001b[38;5;124m'\u001b[39m) \u001b[38;5;28;01mas\u001b[39;00m fdst:\n\u001b[1;32m    259\u001b[0m                 \u001b[38;5;66;03m# macOS\u001b[39;00m\n",
      "\u001b[0;31mFileNotFoundError\u001b[0m: [Errno 2] No such file or directory: './data/filtered_query_poses.txt'"
     ]
    }
   ],
   "source": [
    "# %matplotlib widget\n",
    "%matplotlib inline\n",
    "\n",
    "traj_query_tum_file = \"./data/filtered_query_poses.txt\"\n",
    "traj_ref_tum_file = \"./data/retrieved_ref_poses.txt\"\n",
    "traj_pred_kitti_file = \"./data/pred_image_right_poses_kitti_query_down.txt\"\n",
    "\n",
    "# create copies of all these files with just the first 60 lines\n",
    "traj_query_tum_file_60 = \"./data/filtered_query_poses_60.txt\"\n",
    "traj_ref_tum_file_60 = \"./data/retrieved_ref_poses_60.txt\"\n",
    "traj_pred_kitti_file_60 = \"./data/pred_image_right_poses_kitti_query_down_60.txt\"\n",
    "\n",
    "shutil.copyfile(traj_query_tum_file, traj_query_tum_file_60)\n",
    "shutil.copyfile(traj_ref_tum_file, traj_ref_tum_file_60)\n",
    "shutil.copyfile(traj_pred_kitti_file, traj_pred_kitti_file_60)\n",
    "\n",
    "# read the first 60 lines of each file\n",
    "with open(traj_query_tum_file_60, 'r') as f:\n",
    "    lines = f.readlines()\n",
    "    with open(traj_query_tum_file_60, 'w') as f_out:\n",
    "        f_out.writelines(lines[:60])\n",
    "        \n",
    "with open(traj_ref_tum_file_60, 'r') as f:\n",
    "    lines = f.readlines()\n",
    "    with open(traj_ref_tum_file_60, 'w') as f_out:\n",
    "        f_out.writelines(lines[:60])\n",
    "        \n",
    "with open(traj_pred_kitti_file_60, 'r') as f:\n",
    "    lines = f.readlines()\n",
    "    with open(traj_pred_kitti_file_60, 'w') as f_out:\n",
    "        f_out.writelines(lines[:60])\n",
    "\n",
    "# read using evo\n",
    "traj_query_tum = file_interface.read_tum_trajectory_file(traj_query_tum_file_60)\n",
    "traj_ref_tum = file_interface.read_tum_trajectory_file(traj_ref_tum_file_60)\n",
    "traj_pred_kitti = file_interface.read_kitti_poses_file(traj_pred_kitti_file_60)"
   ]
  },
  {
   "cell_type": "code",
   "execution_count": null,
   "metadata": {},
   "outputs": [],
   "source": [
    "import copy\n",
    "traj_pred_aligned = copy.deepcopy(traj_pred_kitti)\n",
    "traj_pred_aligned.align(traj_query_tum, correct_scale=True, correct_only_scale=False)\n",
    "traj_pred_aligned.align_origin(traj_query_tum)"
   ]
  },
  {
   "cell_type": "code",
   "execution_count": null,
   "metadata": {},
   "outputs": [],
   "source": [
    "fig = plt.figure(figsize=(10, 20))\n",
    "traj_by_label = {\n",
    "    \"reference_tum\": traj_ref_tum, \n",
    "    \"query_tum\": traj_query_tum,\n",
    "    \"pred_kitti\": traj_pred_kitti\n",
    "}\n",
    "\n",
    "plot.trajectories(fig, traj_by_label, plot.PlotMode.xy)\n",
    "plt.show()"
   ]
  },
  {
   "cell_type": "code",
   "execution_count": null,
   "metadata": {},
   "outputs": [],
   "source": [
    "pose_relation = metrics.PoseRelation.translation_part\n",
    "use_aligned_trajectories = False\n",
    "\n",
    "if use_aligned_trajectories:\n",
    "    data = (traj_query_tum, traj_pred_kitti) \n",
    "else:\n",
    "    data = (traj_query_tum, traj_pred_kitti)\n",
    "\n",
    "ape_metric = metrics.APE(pose_relation)\n",
    "ape_metric.process_data(data)\n",
    "\n",
    "ape_stats = ape_metric.get_all_statistics()\n",
    "pprint.pprint(ape_stats)\n",
    "\n",
    "START_POSE = 0\n",
    "END_POSE = 60\n",
    "\n",
    "# create an x array with the time in seconds corresponding to each pose\n",
    "seconds_from_start = list(range(START_POSE, END_POSE))\n",
    "\n",
    "fig = plt.figure()\n",
    "plot.error_array(fig.gca(), ape_metric.error, x_array=seconds_from_start,\n",
    "                statistics={s:v for s,v in ape_stats.items() if s != \"sse\"},\n",
    "                name=\"APE\", title=\"APE w.r.t. \" + ape_metric.pose_relation.value, xlabel=\"$t$ (s)\")\n",
    "plt.show()"
   ]
  },
  {
   "cell_type": "code",
   "execution_count": null,
   "metadata": {},
   "outputs": [],
   "source": [
    "plot_mode = plot.PlotMode.xy\n",
    "fig = plt.figure(figsize=(15, 5))\n",
    "ax = plot.prepare_axis(fig, plot_mode)\n",
    "plot.traj(ax, plot_mode, traj_query_tum, '--', \"gray\", \"gt_query\")\n",
    "plot.traj_colormap(ax, traj_pred_kitti if use_aligned_trajectories else traj_pred_kitti, ape_metric.error, plot_mode, min_map=ape_stats[\"min\"], max_map=ape_stats[\"max\"])\n",
    "ax.legend()\n",
    "plt.show()"
   ]
  }
 ],
 "metadata": {
  "kernelspec": {
   "display_name": "mast3r",
   "language": "python",
   "name": "python3"
  },
  "language_info": {
   "codemirror_mode": {
    "name": "ipython",
    "version": 3
   },
   "file_extension": ".py",
   "mimetype": "text/x-python",
   "name": "python",
   "nbconvert_exporter": "python",
   "pygments_lexer": "ipython3",
   "version": "3.11.8"
  }
 },
 "nbformat": 4,
 "nbformat_minor": 2
}
