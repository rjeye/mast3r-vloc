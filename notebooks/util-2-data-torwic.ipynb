{
 "cells": [
  {
   "cell_type": "code",
   "execution_count": 1,
   "metadata": {},
   "outputs": [
    {
     "name": "stdout",
     "output_type": "stream",
     "text": [
      "/home/onyx/work_dirs/rjayanti/mast3r-vloc\n"
     ]
    }
   ],
   "source": [
    "from pathlib import Path\n",
    "import numpy as np\n",
    "import torch\n",
    "import matplotlib.pyplot as plt\n",
    "from natsort import natsorted\n",
    "\n",
    "from pathlib import Path\n",
    "import cv2\n",
    "import numpy as np\n",
    "from tqdm import tqdm\n",
    "\n",
    "# reload notebook automatically after changes to source python files\n",
    "%load_ext autoreload\n",
    "%autoreload 2\n",
    "\n",
    "# change base folder to parent\n",
    "import os\n",
    "if os.path.basename(os.getcwd()) == 'notebooks':\n",
    "    os.chdir('..')\n",
    "print(os.getcwd())\n",
    "\n",
    "# for evo ######################################################################\n",
    "from evo.tools import log\n",
    "log.configure_logging(verbose=False, debug=False, silent=False)\n",
    "\n",
    "import pprint\n",
    "import numpy as np\n",
    "\n",
    "from evo.tools import plot\n",
    "import matplotlib.pyplot as plt\n",
    "\n",
    "# temporarily override some package settings\n",
    "from evo.tools.settings import SETTINGS\n",
    "SETTINGS.plot_usetex = False\n",
    "\n",
    "plot.apply_settings(SETTINGS)\n",
    "%matplotlib inline\n",
    "\n",
    "from evo.tools import file_interface\n",
    "#############################################################################"
   ]
  },
  {
   "cell_type": "markdown",
   "metadata": {},
   "source": [
    "### Write Poses Camera TUM"
   ]
  },
  {
   "cell_type": "code",
   "execution_count": 2,
   "metadata": {},
   "outputs": [],
   "source": [
    "from src.datasets.dataset_utils import load_tum_poses, PoseMode\n",
    "from src.utils.tf_utils import compose_qt_tf, decompose_tf_qt\n",
    "\n",
    "dataset_root = Path(\"/home/onyx/work_dirs/rjayanti/mast3r-vloc/data/TorWIC-SLAM/\")\n",
    "ref_scene_folder = dataset_root / \"Jun23\" / \"Aisle_CW_Run_2\"\n",
    "\n",
    "ref_poses_file = ref_scene_folder / \"traj_gt.txt\"\n",
    "timestamps, ref_poses = load_tum_poses(ref_poses_file, PoseMode.MAT4x4)\n",
    "\n",
    "qvec_l2c_right = np.array([0.41406507, -0.6100328, 0.57049433, -0.3618651])\n",
    "tvec_l2c_right = np.array([0.07686256, -0.15441064, -0.1026438])\n",
    "tf_l2c_right = compose_qt_tf(qvec_l2c_right, tvec_l2c_right, in_xyzw=True)\n",
    "\n",
    "qvec_l2c_left = np.array([-0.6116725, 0.39292797, -0.3567415, 0.58668551])\n",
    "tvec_l2c_left = np.array([0.12944592, 0.04299934, -0.1137434])\n",
    "tf_l2c_left = compose_qt_tf(qvec_l2c_left, tvec_l2c_left, in_xyzw=True)\n",
    "\n",
    "poses_camera_right_tum = []\n",
    "poses_camera_left_tum = []\n",
    "for i, tf_w2l in enumerate(ref_poses):\n",
    "    tf_w2c_right = tf_w2l @ tf_l2c_right\n",
    "    tf_w2c_left = tf_w2l @ tf_l2c_left\n",
    "    qvec_w2c_right, tvec_w2c_right = decompose_tf_qt(tf_w2c_right, in_xyzw=True)\n",
    "    qvec_w2c_left, tvec_w2c_left = decompose_tf_qt(tf_w2c_left, in_xyzw=True)\n",
    "    \n",
    "    # build TUM format pose as [timestamp] [tx] [ty] [tz] [qx] [qy] [qz] [qw]\n",
    "    pose_camera_right_tum = np.concatenate([np.array([i]), tvec_w2c_right, qvec_w2c_right])\n",
    "    pose_camera_left_tum = np.concatenate([np.array([i]), tvec_w2c_left, qvec_w2c_left])\n",
    "    \n",
    "    poses_camera_right_tum.append(pose_camera_right_tum)\n",
    "    poses_camera_left_tum.append(pose_camera_left_tum)\n",
    "    \n",
    "poses_camera_right_tum = np.array(poses_camera_right_tum)\n",
    "poses_camera_left_tum = np.array(poses_camera_left_tum)\n",
    "# write poses to file\n",
    "poses_camera_right_tum_file = ref_scene_folder / \"poses_camera_right_tum.txt\"\n",
    "poses_camera_left_tum_file = ref_scene_folder / \"poses_camera_left_tum.txt\"\n",
    "np.savetxt(poses_camera_right_tum_file, poses_camera_right_tum, fmt='%.9f')\n",
    "np.savetxt(poses_camera_left_tum_file, poses_camera_left_tum, fmt='%.9f')"
   ]
  }
 ],
 "metadata": {
  "kernelspec": {
   "display_name": "mast3r",
   "language": "python",
   "name": "python3"
  },
  "language_info": {
   "codemirror_mode": {
    "name": "ipython",
    "version": 3
   },
   "file_extension": ".py",
   "mimetype": "text/x-python",
   "name": "python",
   "nbconvert_exporter": "python",
   "pygments_lexer": "ipython3",
   "version": "3.11.8"
  }
 },
 "nbformat": 4,
 "nbformat_minor": 2
}
