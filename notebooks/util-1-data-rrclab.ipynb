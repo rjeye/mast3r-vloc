{
 "cells": [
  {
   "cell_type": "code",
   "execution_count": 5,
   "metadata": {},
   "outputs": [
    {
     "name": "stdout",
     "output_type": "stream",
     "text": [
      "The autoreload extension is already loaded. To reload it, use:\n",
      "  %reload_ext autoreload\n",
      "/home/onyx/work_dirs/rjayanti/mast3r-vloc\n"
     ]
    }
   ],
   "source": [
    "from pathlib import Path\n",
    "import numpy as np\n",
    "import torch\n",
    "import matplotlib.pyplot as plt\n",
    "from natsort import natsorted\n",
    "\n",
    "from pathlib import Path\n",
    "import cv2\n",
    "import numpy as np\n",
    "from tqdm import tqdm\n",
    "\n",
    "# reload notebook automatically after changes to source python files\n",
    "%load_ext autoreload\n",
    "%autoreload 2\n",
    "\n",
    "# change base folder to parent\n",
    "import os\n",
    "if os.path.basename(os.getcwd()) == 'notebooks':\n",
    "    os.chdir('..')\n",
    "print(os.getcwd())\n",
    "\n",
    "# for evo ######################################################################\n",
    "from evo.tools import log\n",
    "log.configure_logging(verbose=False, debug=False, silent=False)\n",
    "\n",
    "import pprint\n",
    "import numpy as np\n",
    "\n",
    "from evo.tools import plot\n",
    "import matplotlib.pyplot as plt\n",
    "\n",
    "# temporarily override some package settings\n",
    "from evo.tools.settings import SETTINGS\n",
    "SETTINGS.plot_usetex = False\n",
    "\n",
    "plot.apply_settings(SETTINGS)\n",
    "%matplotlib inline\n",
    "\n",
    "from evo.tools import file_interface\n",
    "#############################################################################"
   ]
  },
  {
   "cell_type": "markdown",
   "metadata": {},
   "source": [
    "### Write Poses Camera TUM"
   ]
  },
  {
   "cell_type": "code",
   "execution_count": 8,
   "metadata": {},
   "outputs": [],
   "source": [
    "from src.datasets.dataset_utils import load_tum_poses, PoseMode\n",
    "from src.utils.tf_utils import compose_qt_tf, decompose_tf_qt\n",
    "\n",
    "dataset_root = Path(\"data/rrc-lab-data/wheelchair-runs-20241220/\")\n",
    "ref_scene_folder = dataset_root / \"run-3-wheelchair-query\"\n",
    "\n",
    "ref_poses_file = ref_scene_folder / \"poses_lidar_tum.txt\"\n",
    "timestamps, ref_poses = load_tum_poses(ref_poses_file, PoseMode.MAT4x4)\n",
    "\n",
    "qt_l2c = [0.04150990912955882, -0.05306897521382651, -0.06873946470925439, 0.5053342667867295, -0.4989716676762047, 0.49992869417558417, -0.4957175147273307]\n",
    "T_l2c = compose_qt_tf(qt_l2c[3:], qt_l2c[:3], in_xyzw=True)\n",
    "\n",
    "poses_camera_tum = []\n",
    "for timestamp, tf_w2l in zip(timestamps, ref_poses):\n",
    "    tf_w2c = tf_w2l @ T_l2c\n",
    "    qvec_w2c, tvec_w2c = decompose_tf_qt(tf_w2c, in_xyzw=True)\n",
    "    \n",
    "    # build TUM format pose as [timestamp] [tx] [ty] [tz] [qx] [qy] [qz] [qw]\n",
    "    pose_camera_tum = np.concatenate([np.array([timestamp]), tvec_w2c, qvec_w2c])\n",
    "    poses_camera_tum.append(pose_camera_tum)\n",
    "    \n",
    "poses_camera_tum = np.array(poses_camera_tum)\n",
    "# write poses to file\n",
    "poses_camera_tum_file = ref_scene_folder / \"poses_camera_tum.txt\"\n",
    "np.savetxt(poses_camera_tum_file, poses_camera_tum, fmt='%.9f')"
   ]
  },
  {
   "cell_type": "markdown",
   "metadata": {},
   "source": [
    "### Read Intrinsics"
   ]
  },
  {
   "cell_type": "code",
   "execution_count": null,
   "metadata": {},
   "outputs": [],
   "source": [
    "# from src.datasets.dataset_utils import read_intrinsics\n",
    "\n",
    "# data_root = Path(\"data/rrc-lab-data/wheelchair-runs-20241220/\")\n",
    "# experiment = \"run-1-wheelchair-mapping\"\n",
    "\n",
    "# # load intrinsics\n",
    "# intrinsics_dict = read_intrinsics(data_root / experiment / \"intrinsics.txt\")\n",
    "# K_common, W, H = intrinsics_dict['K3x3'], intrinsics_dicts['width'], intrinsics_dicts['height']\n",
    "\n",
    "# print(intrinsics_dict)"
   ]
  },
  {
   "cell_type": "markdown",
   "metadata": {},
   "source": [
    "### Plot Trajectories using EVO"
   ]
  },
  {
   "cell_type": "code",
   "execution_count": 5,
   "metadata": {},
   "outputs": [],
   "source": [
    "# data_root = Path(\"data/rrc-lab-data/wheelchair-runs-20241220/\")\n",
    "\n",
    "# experiments = [\n",
    "#     \"run-1-wheelchair-mapping\",\n",
    "#     \"run-2-wheelchair-query\",\n",
    "#     \"run-3-wheelchair-query\",\n",
    "# ]\n",
    "\n",
    "# tum_mapping = file_interface.read_tum_trajectory_file(data_root / experiments[0] / \"poses_tum.txt\")\n",
    "# tum_query_1 = file_interface.read_tum_trajectory_file(data_root / experiments[1] / \"poses_tum.txt\")\n",
    "# tum_query_2 = file_interface.read_tum_trajectory_file(data_root / experiments[2] / \"poses_tum.txt\")"
   ]
  },
  {
   "cell_type": "code",
   "execution_count": 6,
   "metadata": {},
   "outputs": [],
   "source": [
    "# fig = plt.figure(figsize=(10, 20))\n",
    "# traj_by_label = {\n",
    "#     \"mapping_run\": tum_mapping, \n",
    "#     \"query_run_1_again\": tum_query_2,\n",
    "#     \"query_run_2\": tum_query_2,\n",
    "# }\n",
    "\n",
    "# plot.trajectories(fig, traj_by_label, plot.PlotMode.xy, plot_start_end_markers=True)\n",
    "# # fix the plt legend so that only the first and the last are shown in the legend\n",
    "# handles, labels = plt.gca().get_legend_handles_labels()\n",
    "# plt.legend([handles[0], handles[-1]], [labels[0], labels[-1]])\n",
    "\n",
    "# plt.show()"
   ]
  }
 ],
 "metadata": {
  "kernelspec": {
   "display_name": "mast3r",
   "language": "python",
   "name": "python3"
  },
  "language_info": {
   "codemirror_mode": {
    "name": "ipython",
    "version": 3
   },
   "file_extension": ".py",
   "mimetype": "text/x-python",
   "name": "python",
   "nbconvert_exporter": "python",
   "pygments_lexer": "ipython3",
   "version": "3.11.8"
  }
 },
 "nbformat": 4,
 "nbformat_minor": 2
}
