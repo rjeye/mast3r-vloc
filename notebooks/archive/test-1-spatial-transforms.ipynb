{
 "cells": [
  {
   "cell_type": "code",
   "execution_count": 1,
   "metadata": {},
   "outputs": [
    {
     "name": "stdout",
     "output_type": "stream",
     "text": [
      "Euler Angles (XYZ order, in degrees): [ -95.0037841    -1.77326567 -113.29073048]\n"
     ]
    }
   ],
   "source": [
    "import numpy as np\n",
    "from scipy.spatial.transform import Rotation as R\n",
    "\n",
    "tf_l2c_dummy = np.array(\n",
    "    [\n",
    "        [-0.3952076, -0.09230257, 0.91394271, 0.07686256],\n",
    "        [-0.91807052, 0.00617267, -0.39636911, -0.15441064],\n",
    "        [0.03094439, -0.9957119, -0.0871798, -0.1026438],\n",
    "        [0.0, 0.0, 0.0, 1.0],\n",
    "    ]\n",
    ")\n",
    "\n",
    "# Extract the 3x3 rotation matrix\n",
    "rotation_matrix = tf_l2c_dummy[:3, :3]\n",
    "\n",
    "# Convert to Rotation object\n",
    "rotation = R.from_matrix(rotation_matrix)\n",
    "\n",
    "# Extract Euler angles (e.g., XYZ order in radians)\n",
    "euler_angles = rotation.as_euler(\n",
    "    \"xyz\", degrees=True\n",
    ")  # Change `degrees=True` for degrees\n",
    "\n",
    "print(\"Euler Angles (XYZ order, in degrees):\", euler_angles)"
   ]
  },
  {
   "cell_type": "code",
   "execution_count": 2,
   "metadata": {},
   "outputs": [
    {
     "name": "stdout",
     "output_type": "stream",
     "text": [
      "Quaternion (xyzw): [-0.5  0.5 -0.5  0.5]\n",
      "\n",
      "4x4 Transformation Matrix:\n",
      "[[ 2.22044605e-16  2.22044605e-16  1.00000000e+00  0.00000000e+00]\n",
      " [-1.00000000e+00  0.00000000e+00  2.22044605e-16  0.00000000e+00]\n",
      " [ 0.00000000e+00 -1.00000000e+00  2.22044605e-16  0.00000000e+00]\n",
      " [ 0.00000000e+00  0.00000000e+00  0.00000000e+00  1.00000000e+00]]\n",
      "\n",
      "4x4 Transformation Matrix with translation:\n",
      "[[ 2.22044605e-16  2.22044605e-16  1.00000000e+00  7.68625600e-02]\n",
      " [-1.00000000e+00  0.00000000e+00  2.22044605e-16 -1.54410640e-01]\n",
      " [ 0.00000000e+00 -1.00000000e+00  2.22044605e-16 -1.02643800e-01]\n",
      " [ 0.00000000e+00  0.00000000e+00  0.00000000e+00  1.00000000e+00]]\n"
     ]
    }
   ],
   "source": [
    "# Define Euler angles in degrees\n",
    "euler_angles = np.array([-90, 0, -90])  # XYZ order in degrees\n",
    "\n",
    "# Convert to rotation object\n",
    "rotation = R.from_euler(\"xyz\", euler_angles, degrees=True)\n",
    "\n",
    "# Get quaternion\n",
    "quat = rotation.as_quat()  # returns in xyzw order\n",
    "print(\"Quaternion (xyzw):\", quat)\n",
    "\n",
    "# Get rotation matrix\n",
    "rot_matrix = rotation.as_matrix()\n",
    "\n",
    "# Create 4x4 transformation matrix (assuming translation is [0,0,0])\n",
    "tf_matrix = np.eye(4)\n",
    "tf_matrix[:3, :3] = rot_matrix\n",
    "\n",
    "print(\"\\n4x4 Transformation Matrix:\")\n",
    "print(tf_matrix)\n",
    "\n",
    "# If you want to add a specific translation, you can do:\n",
    "translation = np.array([0.07686256, -0.15441064, -0.1026438])\n",
    "tf_matrix[:3, 3] = translation\n",
    "\n",
    "print(\"\\n4x4 Transformation Matrix with translation:\")\n",
    "print(tf_matrix)"
   ]
  }
 ],
 "metadata": {
  "kernelspec": {
   "display_name": "mast3r",
   "language": "python",
   "name": "python3"
  },
  "language_info": {
   "codemirror_mode": {
    "name": "ipython",
    "version": 3
   },
   "file_extension": ".py",
   "mimetype": "text/x-python",
   "name": "python",
   "nbconvert_exporter": "python",
   "pygments_lexer": "ipython3",
   "version": "3.11.8"
  }
 },
 "nbformat": 4,
 "nbformat_minor": 2
}
