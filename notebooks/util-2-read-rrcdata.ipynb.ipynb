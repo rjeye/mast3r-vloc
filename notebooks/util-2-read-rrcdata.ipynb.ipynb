{
 "cells": [
  {
   "cell_type": "code",
   "execution_count": 3,
   "metadata": {},
   "outputs": [
    {
     "name": "stdout",
     "output_type": "stream",
     "text": [
      "The autoreload extension is already loaded. To reload it, use:\n",
      "  %reload_ext autoreload\n",
      "/home/onyx/work_dirs/rjayanti/mast3r-vloc\n"
     ]
    }
   ],
   "source": [
    "from pathlib import Path\n",
    "import numpy as np\n",
    "import torch\n",
    "import matplotlib.pyplot as plt\n",
    "from natsort import natsorted\n",
    "\n",
    "from pathlib import Path\n",
    "import cv2\n",
    "import numpy as np\n",
    "from tqdm import tqdm\n",
    "\n",
    "# reload notebook automatically after changes to source python files\n",
    "%load_ext autoreload\n",
    "%autoreload 2\n",
    "\n",
    "# change base folder to parent\n",
    "import os\n",
    "if os.path.basename(os.getcwd()) == 'notebooks':\n",
    "    os.chdir('..')\n",
    "print(os.getcwd())\n",
    "\n",
    "# for evo ######################################################################\n",
    "from evo.tools import log\n",
    "log.configure_logging(verbose=False, debug=False, silent=False)\n",
    "\n",
    "import pprint\n",
    "import numpy as np\n",
    "\n",
    "from evo.tools import plot\n",
    "import matplotlib.pyplot as plt\n",
    "\n",
    "# temporarily override some package settings\n",
    "from evo.tools.settings import SETTINGS\n",
    "SETTINGS.plot_usetex = False\n",
    "\n",
    "plot.apply_settings(SETTINGS)\n",
    "%matplotlib inline\n",
    "\n",
    "from evo.tools import file_interface\n",
    "#############################################################################"
   ]
  },
  {
   "cell_type": "code",
   "execution_count": 7,
   "metadata": {},
   "outputs": [
    {
     "name": "stdout",
     "output_type": "stream",
     "text": [
      "[[644.0702    0.      646.7113 ]\n",
      " [  0.      642.52277 362.44116]\n",
      " [  0.        0.        1.     ]]\n"
     ]
    }
   ],
   "source": [
    "from src.datasets.dataset_utils import read_intrinsics\n",
    "\n",
    "data_root = Path(\"data/rrc-lab-data/wheelchair-runs-20241220/\")\n",
    "experiment = \"run-1-wheelchair-mapping\"\n",
    "\n",
    "# load intrinsics\n",
    "intrinsics = read_intrinsics(data_root / experiment / \"intrinsics.txt\")\n",
    "\n",
    "print(intrinsics)"
   ]
  },
  {
   "cell_type": "markdown",
   "metadata": {},
   "source": [
    "### Plot Trajectories using EVO"
   ]
  },
  {
   "cell_type": "code",
   "execution_count": 5,
   "metadata": {},
   "outputs": [],
   "source": [
    "# data_root = Path(\"data/rrc-lab-data/wheelchair-runs-20241220/\")\n",
    "\n",
    "# experiments = [\n",
    "#     \"run-1-wheelchair-mapping\",\n",
    "#     \"run-2-wheelchair-query\",\n",
    "#     \"run-3-wheelchair-query\",\n",
    "# ]\n",
    "\n",
    "# tum_mapping = file_interface.read_tum_trajectory_file(data_root / experiments[0] / \"poses_tum.txt\")\n",
    "# tum_query_1 = file_interface.read_tum_trajectory_file(data_root / experiments[1] / \"poses_tum.txt\")\n",
    "# tum_query_2 = file_interface.read_tum_trajectory_file(data_root / experiments[2] / \"poses_tum.txt\")"
   ]
  },
  {
   "cell_type": "code",
   "execution_count": 6,
   "metadata": {},
   "outputs": [],
   "source": [
    "# fig = plt.figure(figsize=(10, 20))\n",
    "# traj_by_label = {\n",
    "#     \"mapping_run\": tum_mapping, \n",
    "#     \"query_run_1_again\": tum_query_2,\n",
    "#     \"query_run_2\": tum_query_2,\n",
    "# }\n",
    "\n",
    "# plot.trajectories(fig, traj_by_label, plot.PlotMode.xy, plot_start_end_markers=True)\n",
    "# # fix the plt legend so that only the first and the last are shown in the legend\n",
    "# handles, labels = plt.gca().get_legend_handles_labels()\n",
    "# plt.legend([handles[0], handles[-1]], [labels[0], labels[-1]])\n",
    "\n",
    "# plt.show()"
   ]
  }
 ],
 "metadata": {
  "kernelspec": {
   "display_name": "mast3r",
   "language": "python",
   "name": "python3"
  },
  "language_info": {
   "codemirror_mode": {
    "name": "ipython",
    "version": 3
   },
   "file_extension": ".py",
   "mimetype": "text/x-python",
   "name": "python",
   "nbconvert_exporter": "python",
   "pygments_lexer": "ipython3",
   "version": "3.11.8"
  }
 },
 "nbformat": 4,
 "nbformat_minor": 2
}
